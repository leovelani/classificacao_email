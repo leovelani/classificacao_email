{
  "nbformat": 4,
  "nbformat_minor": 0,
  "metadata": {
    "colab": {
      "provenance": [],
      "include_colab_link": true
    },
    "kernelspec": {
      "name": "python3",
      "display_name": "Python 3"
    },
    "language_info": {
      "name": "python"
    }
  },
  "cells": [
    {
      "cell_type": "markdown",
      "metadata": {
        "id": "view-in-github",
        "colab_type": "text"
      },
      "source": [
        "<a href=\"https://colab.research.google.com/github/leovelani/classificacao_email/blob/main/Tema_6_Classifica%C3%A7%C3%A3o_de_Emails_como_Spam_ou_N%C3%A3o_Spam_Usando_Naive_Bayes.ipynb\" target=\"_parent\"><img src=\"https://colab.research.google.com/assets/colab-badge.svg\" alt=\"Open In Colab\"/></a>"
      ]
    },
    {
      "cell_type": "markdown",
      "source": [
        "Naive Bayes é um algoritmo de classificação probabilístico baseado no Teorema de Bayes, usado para prever a categoria de um dado com base em probabilidades calculadas a partir de dados anteriores. No contexto da classificação de e-mails como spam ou não spam, utilizamos o modelo Multinomial Naive Bayes.\n",
        "\n",
        "A principal diferença entre o Naive Bayes padrão e o Multinomial Naive Bayes está na forma como eles tratam os dados de entrada. O Naive Bayes padrão é mais genérico e pode ser aplicado a dados contínuos ou categóricos, enquanto o Multinomial é especialmente projetado para lidar com dados discretos, como contagens de palavras em um texto.\n",
        "\n",
        "Escolhemos o Multinomial Naive Bayes porque o problema envolve dados textuais, onde o foco está na frequência das palavras em cada e-mail. Este modelo calcula a probabilidade de uma mensagem ser spam ou não com base nas ocorrências das palavras, aproveitando-se da estrutura dos dados para oferecer alta precisão e eficiência.\n",
        "\n",
        "Essa abordagem é ideal para filtragem de spam, pois leva em conta a relevância estatística de cada palavra no contexto de e-mails de spam e não spam, mantendo a simplicidade e a rapidez no processamento."
      ],
      "metadata": {
        "id": "Xutq3sDKRkDY"
      }
    },
    {
      "cell_type": "markdown",
      "source": [
        "Primeiro passo:\n",
        "\n",
        "Carregar o dataset e analisar as colunas e como ele foi construido.Além de obter informações sobre as colunas."
      ],
      "metadata": {
        "id": "1aND0aI_91zo"
      }
    },
    {
      "cell_type": "code",
      "source": [
        "import pandas as pd\n",
        "\n",
        "# Carregar o dataset\n",
        "file_path = '/content/spam_ham_dataset.csv'\n",
        "df = pd.read_csv(file_path)\n",
        "\n",
        "# Exibir as primeiras linhas do dataset\n",
        "print(df.head())\n",
        "\n",
        "# Exibir informações sobre o dataset\n",
        "print(df.info())\n",
        "\n",
        "# Exibir estatísticas descritivas para entender melhor os dados\n",
        "print(df.describe())\n"
      ],
      "metadata": {
        "colab": {
          "base_uri": "https://localhost:8080/"
        },
        "id": "0xvlDOMH-FiW",
        "outputId": "501b8c89-a27b-4243-cc61-227b777477b5"
      },
      "execution_count": null,
      "outputs": [
        {
          "output_type": "stream",
          "name": "stdout",
          "text": [
            "   Unnamed: 0 label                                               text  \\\n",
            "0         605   ham  Subject: enron methanol ; meter # : 988291\\r\\n...   \n",
            "1        2349   ham  Subject: hpl nom for january 9 , 2001\\r\\n( see...   \n",
            "2        3624   ham  Subject: neon retreat\\r\\nho ho ho , we ' re ar...   \n",
            "3        4685  spam  Subject: photoshop , windows , office . cheap ...   \n",
            "4        2030   ham  Subject: re : indian springs\\r\\nthis deal is t...   \n",
            "\n",
            "   label_num  \n",
            "0          0  \n",
            "1          0  \n",
            "2          0  \n",
            "3          1  \n",
            "4          0  \n",
            "<class 'pandas.core.frame.DataFrame'>\n",
            "RangeIndex: 5171 entries, 0 to 5170\n",
            "Data columns (total 4 columns):\n",
            " #   Column      Non-Null Count  Dtype \n",
            "---  ------      --------------  ----- \n",
            " 0   Unnamed: 0  5171 non-null   int64 \n",
            " 1   label       5171 non-null   object\n",
            " 2   text        5171 non-null   object\n",
            " 3   label_num   5171 non-null   int64 \n",
            "dtypes: int64(2), object(2)\n",
            "memory usage: 161.7+ KB\n",
            "None\n",
            "        Unnamed: 0    label_num\n",
            "count  5171.000000  5171.000000\n",
            "mean   2585.000000     0.289886\n",
            "std    1492.883452     0.453753\n",
            "min       0.000000     0.000000\n",
            "25%    1292.500000     0.000000\n",
            "50%    2585.000000     0.000000\n",
            "75%    3877.500000     1.000000\n",
            "max    5170.000000     1.000000\n"
          ]
        }
      ]
    },
    {
      "cell_type": "markdown",
      "source": [
        "Explicação das colunas:\n",
        "\n",
        "label: Esta coluna indica se o e-mail é \"spam\" ou \"ham\". \"Spam\" refere-se a e-mails indesejados, geralmente de natureza publicitária ou fraudulenta. \"Ham\" refere-se a e-mails legítimos que não são spam.\n",
        "\n",
        "text: Esta coluna contém o conteúdo real do e-mail. É o texto que será analisado para determinar se o e-mail é spam ou ham.\n",
        "\n",
        "label_num: Esta coluna é a versão numérica da coluna \"label\", onde \"spam\" é geralmente codificado como 1 e \"ham\" como 0. Essa codificação é útil para alimentar os dados em modelos de machine learning, que geralmente trabalham melhor com valores numéricos."
      ],
      "metadata": {
        "id": "abGdcjCK-Okq"
      }
    },
    {
      "cell_type": "code",
      "source": [
        "# Verificar valores ausentes\n",
        "print(df.isnull().sum())\n",
        "\n",
        "# Verificar entradas duplicadas\n",
        "print(f\"Entradas duplicadas: {df.duplicated().sum()}\")\n"
      ],
      "metadata": {
        "colab": {
          "base_uri": "https://localhost:8080/"
        },
        "id": "38oJ7tX1S4wI",
        "outputId": "a8a29016-e49d-4083-d008-67c0645aec9e"
      },
      "execution_count": null,
      "outputs": [
        {
          "output_type": "stream",
          "name": "stdout",
          "text": [
            "Unnamed: 0    0\n",
            "label         0\n",
            "text          0\n",
            "label_num     0\n",
            "dtype: int64\n",
            "Entradas duplicadas: 0\n"
          ]
        }
      ]
    },
    {
      "cell_type": "markdown",
      "source": [
        "Análise de Valores Faltantes e Duplicados:\n",
        "É importante verificar se existem valores faltantes ou duplicados, que podem impactar a qualidade do modelo.\n"
      ],
      "metadata": {
        "id": "o9RLqHTjSx0I"
      }
    },
    {
      "cell_type": "code",
      "source": [
        "# Distribuição de spam e ham\n",
        "print(df['label'].value_counts())\n",
        "\n",
        "# Visualizar graficamente a distribuição\n",
        "import seaborn as sns\n",
        "import matplotlib.pyplot as plt\n",
        "\n",
        "sns.countplot(data=df, x='label')\n",
        "plt.title('Distribuição de Spam vs. Ham')\n",
        "plt.show()\n"
      ],
      "metadata": {
        "colab": {
          "base_uri": "https://localhost:8080/",
          "height": 545
        },
        "id": "GY5tVD3nUmCD",
        "outputId": "23e82414-6d77-4d30-ed6e-fbfaaee1c067"
      },
      "execution_count": null,
      "outputs": [
        {
          "output_type": "stream",
          "name": "stdout",
          "text": [
            "label\n",
            "ham     3672\n",
            "spam    1499\n",
            "Name: count, dtype: int64\n"
          ]
        },
        {
          "output_type": "display_data",
          "data": {
            "text/plain": [
              "<Figure size 640x480 with 1 Axes>"
            ],
            "image/png": "[encoded data removed]"
          },
          "metadata": {}
        }
      ]
    },
    {
      "cell_type": "markdown",
      "source": [
        "Entender a distribuição das classes (spam vs. ham) é essencial para avaliar o balanceamento do dataset."
      ],
      "metadata": {
        "id": "NvWYAKPMUt7M"
      }
    },
    {
      "cell_type": "markdown",
      "source": [
        "O modelo precisa de mais instâncias de \"Ham\" para aprender melhor as características dos e-mails \"normais\" e diferenciá-los do \"Spam\". Como o objetivo é que ele consiga reconhecer o que é típico em um e-mail legítimo, ter uma maior quantidade de \"Ham\" no dataset permite ao Naive Bayes identificar padrões comuns, como certas palavras e estruturas de texto que aparecem em mensagens não indesejadas.\n",
        "\n",
        "Se o dataset tivesse mais \"Spam\" do que \"Ham\", o modelo poderia ficar \"acostumado\" a classificar qualquer e-mail como spam, levando a muitos falsos positivos. Portanto, uma boa representação de \"Ham\" é essencial para que o modelo aprenda a diferenciar com mais precisão e segurança o que é um e-mail legítimo."
      ],
      "metadata": {
        "id": "XeZ2KwhFdhB7"
      }
    },
    {
      "cell_type": "markdown",
      "source": [
        "Para entender melhor o conteúdo do dataset e as características específicas dos e-mails de cada categoria, decidimos separar e exibir as palavras mais comuns em e-mails \"Ham\" e \"Spam\". Essa separação permite identificar padrões linguísticos únicos de cada classe. Em e-mails de spam, certas palavras tendem a aparecer com maior frequência, como termos promocionais ou de urgência (\"ganhe\", \"promoção\", \"grátis\"). Já em e-mails \"Ham\", observamos uma prevalência de termos neutros e contextuais, comuns em comunicações legítimas.\n",
        "\n",
        "Esse processo é importante pois ajuda o modelo a reconhecer as palavras e estruturas que caracterizam cada tipo de e-mail, reforçando o aprendizado do Naive Bayes. Ao conhecer as palavras típicas em \"Spam\" e \"Ham\", o modelo consegue distinguir melhor os e-mails legítimos daqueles que são potencialmente indesejados, aumentando a precisão e a confiabilidade na classificação."
      ],
      "metadata": {
        "id": "IvErocSM7Faw"
      }
    },
    {
      "cell_type": "code",
      "source": [
        "from collections import Counter\n",
        "import re\n",
        "\n",
        "def get_top_n_words(corpus, n=20):\n",
        "    words = ' '.join(corpus).lower()\n",
        "    words = re.findall(r'\\w+', words)\n",
        "    return Counter(words).most_common(n)\n",
        "\n",
        "# Palavras mais comuns em e-mails de spam\n",
        "spam_words = df[df['label'] == 'spam']['text']\n",
        "print(\"Palavras mais comuns em spam:\")\n",
        "print(get_top_n_words(spam_words))\n",
        "\n",
        "# Palavras mais comuns em e-mails ham\n",
        "ham_words = df[df['label'] == 'ham']['text']\n",
        "print(\"Palavras mais comuns em ham:\")\n",
        "print(get_top_n_words(ham_words))\n"
      ],
      "metadata": {
        "colab": {
          "base_uri": "https://localhost:8080/"
        },
        "id": "VaMIlCUAVGgs",
        "outputId": "49033827-e50b-4991-ff83-f95a1dbc9754"
      },
      "execution_count": null,
      "outputs": [
        {
          "output_type": "stream",
          "name": "stdout",
          "text": [
            "Palavras mais comuns em spam:\n",
            "[('the', 7254), ('to', 5160), ('and', 4903), ('of', 4490), ('a', 3787), ('in', 3129), ('you', 2794), ('for', 2523), ('this', 2283), ('is', 2256), ('your', 1946), ('subject', 1657), ('with', 1470), ('that', 1348), ('s', 1324), ('be', 1303), ('or', 1302), ('on', 1264), ('3', 1239), ('_', 1218)]\n",
            "Palavras mais comuns em ham:\n",
            "[('the', 18359), ('to', 15172), ('ect', 13897), ('for', 7982), ('and', 7912), ('hou', 7281), ('enron', 6555), ('subject', 6403), ('on', 6049), ('a', 6026), ('of', 5677), ('you', 5365), ('i', 5241), ('is', 4906), ('this', 4878), ('in', 4570), ('2000', 4308), ('be', 3757), ('will', 3441), ('that', 3419)]\n"
          ]
        }
      ]
    },
    {
      "cell_type": "markdown",
      "source": [
        "Após a analisar os resultados das palavras mais comuns, percebemos que o data-set possui muitas stop-words.\n",
        "\n",
        "Stopwords são palavras comuns que aparecem com muita frequência em textos, mas geralmente não carregam muito significado específico. Exemplos de stopwords em português são \"o\", \"a\", \"de\", \"para\", \"em\", \"é\" e \"mas\". Em inglês, exemplos incluem \"the\", \"is\", \"and\", \"to\", \"in\".\n",
        "\n",
        "Remover as stopwords ajuda a reduzir o ruído nos dados e a melhorar a eficiência e precisão do modelo, pois ele passa a se basear em palavras que realmente contribuem para diferenciar o contexto de cada e-mail."
      ],
      "metadata": {
        "id": "wLB2imL6gpHE"
      }
    },
    {
      "cell_type": "code",
      "source": [
        "import nltk\n",
        "import re\n",
        "from nltk.corpus import stopwords\n",
        "from nltk.stem import PorterStemmer\n",
        "from nltk.tokenize import word_tokenize\n",
        "\n",
        "# Baixar pacotes necessários\n",
        "nltk.download('punkt')\n",
        "nltk.download('stopwords')\n",
        "\n",
        "# Definir stopwords e stemmer\n",
        "stop_words = set(stopwords.words('english'))\n",
        "stemmer = PorterStemmer()\n",
        "\n",
        "# Função de pré-processamento\n",
        "def preprocess_text(text):\n",
        "    text = text.lower()  # Minúsculas\n",
        "    text = re.sub(r'[^\\w\\s]', '', text)  # Remover pontuação\n",
        "    words = word_tokenize(text)  # Tokenização\n",
        "    words = [stemmer.stem(word) for word in words if word not in stop_words]  # Remover stopwords e aplicar stemming\n",
        "    return ' '.join(words)\n",
        "\n",
        "# Aplicar a função ao dataset\n",
        "df['processed_text'] = df['text'].apply(preprocess_text)\n",
        "\n",
        "# Verificar o resultado\n",
        "print(df[['text', 'processed_text']].head())\n"
      ],
      "metadata": {
        "colab": {
          "base_uri": "https://localhost:8080/"
        },
        "id": "IzB9vjxi3f6X",
        "outputId": "9c6af853-a763-4863-d518-ff28d4e27395"
      },
      "execution_count": null,
      "outputs": [
        {
          "output_type": "stream",
          "name": "stderr",
          "text": [
            "[nltk_data] Downloading package punkt to /root/nltk_data...\n",
            "[nltk_data]   Unzipping tokenizers/punkt.zip.\n",
            "[nltk_data] Downloading package stopwords to /root/nltk_data...\n",
            "[nltk_data]   Unzipping corpora/stopwords.zip.\n"
          ]
        },
        {
          "output_type": "stream",
          "name": "stdout",
          "text": [
            "                                                text  \\\n",
            "0  Subject: enron methanol ; meter # : 988291\\r\\n...   \n",
            "1  Subject: hpl nom for january 9 , 2001\\r\\n( see...   \n",
            "2  Subject: neon retreat\\r\\nho ho ho , we ' re ar...   \n",
            "3  Subject: photoshop , windows , office . cheap ...   \n",
            "4  Subject: re : indian springs\\r\\nthis deal is t...   \n",
            "\n",
            "                                      processed_text  \n",
            "0  subject enron methanol meter 988291 follow not...  \n",
            "1  subject hpl nom januari 9 2001 see attach file...  \n",
            "2  subject neon retreat ho ho ho around wonder ti...  \n",
            "3  subject photoshop window offic cheap main tren...  \n",
            "4  subject indian spring deal book teco pvr reven...  \n"
          ]
        }
      ]
    },
    {
      "cell_type": "markdown",
      "source": [
        "O pré-processamento dos textos dos e-mails é crucial para garantir que o modelo funcione bem. Aqui, aplicamos várias etapas:\n",
        "\n",
        "*Conversão para minúsculas:* Para evitar diferenciação de palavras iguais apenas por letras maiúsculas ou minúsculas.\n",
        "\n",
        "*Remoção de pontuação:* Pontuações como vírgulas e pontos não são úteis para a análise de texto em muitos casos.\n",
        "\n",
        "*Tokenização:* Dividimos o texto em palavras separadas (tokens).\n",
        "\n",
        "*Remoção de stopwords:* Stopwords são palavras muito comuns que não agregam muito significado, como \"de\", \"e\", \"o\", \"para\".\n",
        "\n",
        "*Stemming: *Reduzimos as palavras à sua raiz, o que significa que diferentes formas de uma palavra (por exemplo, \"playing\" e \"played\") são tratadas da mesma forma"
      ],
      "metadata": {
        "id": "sanWue1M4EUa"
      }
    },
    {
      "cell_type": "markdown",
      "source": [
        "\n",
        "\n",
        "Oque é o TF-IDF?:\n",
        "\n",
        "Term Frequency (TF): Conta a frequência com que uma palavra aparece em um documento específico. Quanto mais uma palavra aparece em um documento, maior é o seu peso nesse documento. No entanto, essa contagem sozinha não é suficiente, pois algumas palavras comuns podem aparecer em muitos documentos sem agregar muito significado.\n",
        "\n",
        "Inverse Document Frequency (IDF): Pondera o valor de cada palavra pela sua \"raridade\" em todos os documentos do conjunto de dados. Palavras que aparecem em muitos documentos recebem um peso menor (pois são menos informativas), enquanto palavras raras ganham um peso maior.\n",
        "\n",
        "A fórmula do IDF é :\n",
        "\n",
        "IDF(t)=log((Número de documentos)/(Número de documentos contendo a palavra t))\n",
        "\n",
        "\n",
        "TF-IDF Score: O produto do TF e do IDF. Esse valor é o peso final que representa a relevância de uma palavra em um documento específico. Uma palavra com alto TF-IDF em um documento é tanto frequente nesse documento quanto relativamente rara nos demais, o que a torna importante para diferenciar o contexto daquele documento.\n",
        "\n",
        "O TF-IDF foi utilizado neste projeto porque fornece uma forma eficaz de representar o texto de maneira numérica, capturando a importância relativa das palavras em cada e-mail. Essa representação é particularmente útil para algoritmos de classificação de texto, como o Naive Bayes, que assume independência entre as características e utiliza contagens ou frequências de palavras para calcular probabilidades.\n",
        "\n",
        "Com o TF-IDF, o Naive Bayes pode aproveitar uma matriz que enfatiza palavras significativas (que ajudam a diferenciar \"Spam\" de \"Ham\") e reduz o peso de palavras comuns que aparecem em quase todos os e-mails, evitando o viés que poderia surgir se fosse usada apenas a contagem simples de palavras. Isso resulta em uma classificação mais precisa e eficiente, pois o modelo é capaz de focar nas palavras mais relevantes para distinguir entre os tipos de e-mail.\n",
        "\n"
      ],
      "metadata": {
        "id": "t7nDisZvMuZC"
      }
    },
    {
      "cell_type": "code",
      "source": [
        "from sklearn.feature_extraction.text import TfidfVectorizer\n",
        "\n",
        "# Adicione stopwords específicas (exemplo: palavras comuns em e-mails que não ajudam na classificação)\n",
        "custom_stopwords = [\n",
        "    \"subject\", \"re\", \"fw\", \"click\", \"unsubscribe\", \"dear\",\n",
        "    \"the\", \"to\", \"and\", \"of\", \"a\", \"in\", \"for\", \"this\", \"is\", \"your\", \"with\",\n",
        "    \"that\", \"be\", \"on\", \"or\", \"will\", \"3\", \"_\", \"2000\", \"i\"\n",
        "]  # Adicione mais palavras se necessário\n",
        "\n",
        "# Definir o vetor de TF-IDF com bigramas e stopwords personalizadas\n",
        "vectorizer = TfidfVectorizer(ngram_range=(1, 2), stop_words=custom_stopwords)\n",
        "\n",
        "# Transformar os textos com o TF-IDF atualizado\n",
        "X = vectorizer.fit_transform(df['processed_text'])\n",
        "\n"
      ],
      "metadata": {
        "id": "yB9uxpg04H6N"
      },
      "execution_count": null,
      "outputs": []
    },
    {
      "cell_type": "markdown",
      "source": [
        "Palavras comuns como \"the\", \"to\", \"and\", \"of\": São comuns em qualquer texto e não ajudam na diferenciação.\n",
        "\n",
        "Palavras específicas de e-mails: Palavras como \"subject\", \"re\", \"fw\", \"click\", \"unsubscribe\" são típicas de e-mails, mas podem aparecer tanto em spam quanto em ham, portanto, têm pouco valor discriminatório.\n"
      ],
      "metadata": {
        "id": "axoTTQOxg2Yv"
      }
    },
    {
      "cell_type": "markdown",
      "source": [
        "Stopwords Personalizadas: Ao adicionar uma lista de palavras que são irrelevantes para o modelo, você ajuda a remover palavras que não contribuem para a distinção entre \"Spam\" e \"Ham\".\n",
        "\n",
        "Bigramas: Configurando ngram_range=(1, 2), você está pedindo ao TfidfVectorizer para considerar não apenas palavras individuais (unigramas), mas também pares de palavras consecutivas (bigramas). Isso ajuda a capturar frases comuns em spam, como \"ganhe grátis\" ou \"oferta exclusiva\"."
      ],
      "metadata": {
        "id": "RncdAdFV5Gzp"
      }
    },
    {
      "cell_type": "code",
      "source": [
        "from sklearn.model_selection import train_test_split\n",
        "\n",
        "# Definir as etiquetas (label_num é 0 para ham e 1 para spam)\n",
        "y = df['label_num']\n",
        "\n",
        "# Divisão dos dados (80% treino, 20% teste)\n",
        "X_train, X_test, y_train, y_test = train_test_split(X, y, test_size=0.2, random_state=42)\n"
      ],
      "metadata": {
        "id": "bBLAiqy45JuW"
      },
      "execution_count": null,
      "outputs": []
    },
    {
      "cell_type": "code",
      "source": [
        "from imblearn.over_sampling import SMOTE\n",
        "\n",
        "# Instanciar o balanceador SMOTE\n",
        "smote = SMOTE(random_state=42)\n",
        "\n",
        "# Aplicar SMOTE ao conjunto de treino\n",
        "X_train_balanced, y_train_balanced = smote.fit_resample(X_train, y_train)\n",
        "\n"
      ],
      "metadata": {
        "id": "3fEayYwvXWIR"
      },
      "execution_count": null,
      "outputs": []
    },
    {
      "cell_type": "markdown",
      "source": [
        "SMOTE (Synthetic Minority Over-sampling Technique) é uma técnica de oversampling que cria novas instâncias sintéticas para a classe minoritária, ajudando a balancear o dataset. Oversampling, de forma geral, aumenta o número de exemplos na classe menos representada (neste caso, spam), reduzindo o desbalanceamento.\n",
        "\n",
        "Usamos SMOTE para que o modelo tenha mais exemplos de spam no treinamento, melhorando sua capacidade de reconhecer padrões dessa classe e reduzindo a chance de classificar spam incorretamente como e-mails legítimos (ham)."
      ],
      "metadata": {
        "id": "ptKRcY1RX-sw"
      }
    },
    {
      "cell_type": "markdown",
      "source": [
        "Utilizamos a função train_test_split da biblioteca sklearn.model_selection para dividir o dataset em dois subconjuntos: conjunto de treino e conjunto de teste.\n",
        "\n",
        "Conjunto de Treino (80%): Essa parte dos dados é utilizada para treinar o modelo, ou seja, para que ele aprenda a identificar padrões entre as variáveis (neste caso, as características TF-IDF dos e-mails) e suas respectivas classes (ham ou spam).\n",
        "\n",
        "Conjunto de Teste (20%): Essa parte é reservada e utilizada apenas depois do treinamento, para avaliar o desempenho do modelo em dados que ele ainda não viu. Isso ajuda a verificar a capacidade de generalização do modelo, ou seja, o quão bem ele consegue classificar novos e-mails que não foram utilizados no treinamento.\n",
        "\n",
        "Parâmetros\n",
        "test_size=0.2: Define que 20% dos dados serão alocados para o conjunto de teste e 80% para o conjunto de treino. Essa proporção é comumente utilizada para garantir que o conjunto de treino seja suficientemente grande para que o modelo aprenda bem, mas sem comprometer uma boa avaliação com o conjunto de teste.\n",
        "\n",
        "random_state=42: Garante que a divisão dos dados seja reproduzível. Isso significa que, ao rodar o código várias vezes, a divisão será sempre a mesma. Definir um valor para random_state é útil para manter a consistência dos resultados, especialmente em experimentos que precisam ser replicados.\n",
        "\n",
        "Importância da Divisão\n",
        "Dividir os dados entre treino e teste é uma prática essencial para evitar o problema de overfitting (quando o modelo \"memoriza\" o conjunto de treino e tem dificuldade em generalizar para dados novos)."
      ],
      "metadata": {
        "id": "_gAY-Yds5YVA"
      }
    },
    {
      "cell_type": "code",
      "source": [
        "from sklearn.naive_bayes import MultinomialNB\n",
        "\n",
        "# Inicializar o classificador Naive Bayes\n",
        "model = MultinomialNB()\n",
        "\n",
        "# Treinar o modelo com o conjunto de dados balanceado\n",
        "model.fit(X_train_balanced, y_train_balanced)"
      ],
      "metadata": {
        "colab": {
          "base_uri": "https://localhost:8080/",
          "height": 80
        },
        "id": "fF0j0Omt5fsn",
        "outputId": "96276533-7494-4c7a-8f0d-704a74cccee7"
      },
      "execution_count": null,
      "outputs": [
        {
          "output_type": "execute_result",
          "data": {
            "text/plain": [
              "MultinomialNB()"
            ],
            "text/html": [
              "<style>#sk-container-id-1 {\n",
              "  /* Definition of color scheme common for light and dark mode */\n",
              "  --sklearn-color-text: black;\n",
              "  --sklearn-color-line: gray;\n",
              "  /* Definition of color scheme for unfitted estimators */\n",
              "  --sklearn-color-unfitted-level-0: #fff5e6;\n",
              "  --sklearn-color-unfitted-level-1: #f6e4d2;\n",
              "  --sklearn-color-unfitted-level-2: #ffe0b3;\n",
              "  --sklearn-color-unfitted-level-3: chocolate;\n",
              "  /* Definition of color scheme for fitted estimators */\n",
              "  --sklearn-color-fitted-level-0: #f0f8ff;\n",
              "  --sklearn-color-fitted-level-1: #d4ebff;\n",
              "  --sklearn-color-fitted-level-2: #b3dbfd;\n",
              "  --sklearn-color-fitted-level-3: cornflowerblue;\n",
              "\n",
              "  /* Specific color for light theme */\n",
              "  --sklearn-color-text-on-default-background: var(--sg-text-color, var(--theme-code-foreground, var(--jp-content-font-color1, black)));\n",
              "  --sklearn-color-background: var(--sg-background-color, var(--theme-background, var(--jp-layout-color0, white)));\n",
              "  --sklearn-color-border-box: var(--sg-text-color, var(--theme-code-foreground, var(--jp-content-font-color1, black)));\n",
              "  --sklearn-color-icon: #696969;\n",
              "\n",
              "  @media (prefers-color-scheme: dark) {\n",
              "    /* Redefinition of color scheme for dark theme */\n",
              "    --sklearn-color-text-on-default-background: var(--sg-text-color, var(--theme-code-foreground, var(--jp-content-font-color1, white)));\n",
              "    --sklearn-color-background: var(--sg-background-color, var(--theme-background, var(--jp-layout-color0, #111)));\n",
              "    --sklearn-color-border-box: var(--sg-text-color, var(--theme-code-foreground, var(--jp-content-font-color1, white)));\n",
              "    --sklearn-color-icon: #878787;\n",
              "  }\n",
              "}\n",
              "\n",
              "#sk-container-id-1 {\n",
              "  color: var(--sklearn-color-text);\n",
              "}\n",
              "\n",
              "#sk-container-id-1 pre {\n",
              "  padding: 0;\n",
              "}\n",
              "\n",
              "#sk-container-id-1 input.sk-hidden--visually {\n",
              "  border: 0;\n",
              "  clip: rect(1px 1px 1px 1px);\n",
              "  clip: rect(1px, 1px, 1px, 1px);\n",
              "  height: 1px;\n",
              "  margin: -1px;\n",
              "  overflow: hidden;\n",
              "  padding: 0;\n",
              "  position: absolute;\n",
              "  width: 1px;\n",
              "}\n",
              "\n",
              "#sk-container-id-1 div.sk-dashed-wrapped {\n",
              "  border: 1px dashed var(--sklearn-color-line);\n",
              "  margin: 0 0.4em 0.5em 0.4em;\n",
              "  box-sizing: border-box;\n",
              "  padding-bottom: 0.4em;\n",
              "  background-color: var(--sklearn-color-background);\n",
              "}\n",
              "\n",
              "#sk-container-id-1 div.sk-container {\n",
              "  /* jupyter's `normalize.less` sets `[hidden] { display: none; }`\n",
              "     but bootstrap.min.css set `[hidden] { display: none !important; }`\n",
              "     so we also need the `!important` here to be able to override the\n",
              "     default hidden behavior on the sphinx rendered scikit-learn.org.\n",
              "     See: https://github.com/scikit-learn/scikit-learn/issues/21755 */\n",
              "  display: inline-block !important;\n",
              "  position: relative;\n",
              "}\n",
              "\n",
              "#sk-container-id-1 div.sk-text-repr-fallback {\n",
              "  display: none;\n",
              "}\n",
              "\n",
              "div.sk-parallel-item,\n",
              "div.sk-serial,\n",
              "div.sk-item {\n",
              "  /* draw centered vertical line to link estimators */\n",
              "  background-image: linear-gradient(var(--sklearn-color-text-on-default-background), var(--sklearn-color-text-on-default-background));\n",
              "  background-size: 2px 100%;\n",
              "  background-repeat: no-repeat;\n",
              "  background-position: center center;\n",
              "}\n",
              "\n",
              "/* Parallel-specific style estimator block */\n",
              "\n",
              "#sk-container-id-1 div.sk-parallel-item::after {\n",
              "  content: \"\";\n",
              "  width: 100%;\n",
              "  border-bottom: 2px solid var(--sklearn-color-text-on-default-background);\n",
              "  flex-grow: 1;\n",
              "}\n",
              "\n",
              "#sk-container-id-1 div.sk-parallel {\n",
              "  display: flex;\n",
              "  align-items: stretch;\n",
              "  justify-content: center;\n",
              "  background-color: var(--sklearn-color-background);\n",
              "  position: relative;\n",
              "}\n",
              "\n",
              "#sk-container-id-1 div.sk-parallel-item {\n",
              "  display: flex;\n",
              "  flex-direction: column;\n",
              "}\n",
              "\n",
              "#sk-container-id-1 div.sk-parallel-item:first-child::after {\n",
              "  align-self: flex-end;\n",
              "  width: 50%;\n",
              "}\n",
              "\n",
              "#sk-container-id-1 div.sk-parallel-item:last-child::after {\n",
              "  align-self: flex-start;\n",
              "  width: 50%;\n",
              "}\n",
              "\n",
              "#sk-container-id-1 div.sk-parallel-item:only-child::after {\n",
              "  width: 0;\n",
              "}\n",
              "\n",
              "/* Serial-specific style estimator block */\n",
              "\n",
              "#sk-container-id-1 div.sk-serial {\n",
              "  display: flex;\n",
              "  flex-direction: column;\n",
              "  align-items: center;\n",
              "  background-color: var(--sklearn-color-background);\n",
              "  padding-right: 1em;\n",
              "  padding-left: 1em;\n",
              "}\n",
              "\n",
              "\n",
              "/* Toggleable style: style used for estimator/Pipeline/ColumnTransformer box that is\n",
              "clickable and can be expanded/collapsed.\n",
              "- Pipeline and ColumnTransformer use this feature and define the default style\n",
              "- Estimators will overwrite some part of the style using the `sk-estimator` class\n",
              "*/\n",
              "\n",
              "/* Pipeline and ColumnTransformer style (default) */\n",
              "\n",
              "#sk-container-id-1 div.sk-toggleable {\n",
              "  /* Default theme specific background. It is overwritten whether we have a\n",
              "  specific estimator or a Pipeline/ColumnTransformer */\n",
              "  background-color: var(--sklearn-color-background);\n",
              "}\n",
              "\n",
              "/* Toggleable label */\n",
              "#sk-container-id-1 label.sk-toggleable__label {\n",
              "  cursor: pointer;\n",
              "  display: block;\n",
              "  width: 100%;\n",
              "  margin-bottom: 0;\n",
              "  padding: 0.5em;\n",
              "  box-sizing: border-box;\n",
              "  text-align: center;\n",
              "}\n",
              "\n",
              "#sk-container-id-1 label.sk-toggleable__label-arrow:before {\n",
              "  /* Arrow on the left of the label */\n",
              "  content: \"▸\";\n",
              "  float: left;\n",
              "  margin-right: 0.25em;\n",
              "  color: var(--sklearn-color-icon);\n",
              "}\n",
              "\n",
              "#sk-container-id-1 label.sk-toggleable__label-arrow:hover:before {\n",
              "  color: var(--sklearn-color-text);\n",
              "}\n",
              "\n",
              "/* Toggleable content - dropdown */\n",
              "\n",
              "#sk-container-id-1 div.sk-toggleable__content {\n",
              "  max-height: 0;\n",
              "  max-width: 0;\n",
              "  overflow: hidden;\n",
              "  text-align: left;\n",
              "  /* unfitted */\n",
              "  background-color: var(--sklearn-color-unfitted-level-0);\n",
              "}\n",
              "\n",
              "#sk-container-id-1 div.sk-toggleable__content.fitted {\n",
              "  /* fitted */\n",
              "  background-color: var(--sklearn-color-fitted-level-0);\n",
              "}\n",
              "\n",
              "#sk-container-id-1 div.sk-toggleable__content pre {\n",
              "  margin: 0.2em;\n",
              "  border-radius: 0.25em;\n",
              "  color: var(--sklearn-color-text);\n",
              "  /* unfitted */\n",
              "  background-color: var(--sklearn-color-unfitted-level-0);\n",
              "}\n",
              "\n",
              "#sk-container-id-1 div.sk-toggleable__content.fitted pre {\n",
              "  /* unfitted */\n",
              "  background-color: var(--sklearn-color-fitted-level-0);\n",
              "}\n",
              "\n",
              "#sk-container-id-1 input.sk-toggleable__control:checked~div.sk-toggleable__content {\n",
              "  /* Expand drop-down */\n",
              "  max-height: 200px;\n",
              "  max-width: 100%;\n",
              "  overflow: auto;\n",
              "}\n",
              "\n",
              "#sk-container-id-1 input.sk-toggleable__control:checked~label.sk-toggleable__label-arrow:before {\n",
              "  content: \"▾\";\n",
              "}\n",
              "\n",
              "/* Pipeline/ColumnTransformer-specific style */\n",
              "\n",
              "#sk-container-id-1 div.sk-label input.sk-toggleable__control:checked~label.sk-toggleable__label {\n",
              "  color: var(--sklearn-color-text);\n",
              "  background-color: var(--sklearn-color-unfitted-level-2);\n",
              "}\n",
              "\n",
              "#sk-container-id-1 div.sk-label.fitted input.sk-toggleable__control:checked~label.sk-toggleable__label {\n",
              "  background-color: var(--sklearn-color-fitted-level-2);\n",
              "}\n",
              "\n",
              "/* Estimator-specific style */\n",
              "\n",
              "/* Colorize estimator box */\n",
              "#sk-container-id-1 div.sk-estimator input.sk-toggleable__control:checked~label.sk-toggleable__label {\n",
              "  /* unfitted */\n",
              "  background-color: var(--sklearn-color-unfitted-level-2);\n",
              "}\n",
              "\n",
              "#sk-container-id-1 div.sk-estimator.fitted input.sk-toggleable__control:checked~label.sk-toggleable__label {\n",
              "  /* fitted */\n",
              "  background-color: var(--sklearn-color-fitted-level-2);\n",
              "}\n",
              "\n",
              "#sk-container-id-1 div.sk-label label.sk-toggleable__label,\n",
              "#sk-container-id-1 div.sk-label label {\n",
              "  /* The background is the default theme color */\n",
              "  color: var(--sklearn-color-text-on-default-background);\n",
              "}\n",
              "\n",
              "/* On hover, darken the color of the background */\n",
              "#sk-container-id-1 div.sk-label:hover label.sk-toggleable__label {\n",
              "  color: var(--sklearn-color-text);\n",
              "  background-color: var(--sklearn-color-unfitted-level-2);\n",
              "}\n",
              "\n",
              "/* Label box, darken color on hover, fitted */\n",
              "#sk-container-id-1 div.sk-label.fitted:hover label.sk-toggleable__label.fitted {\n",
              "  color: var(--sklearn-color-text);\n",
              "  background-color: var(--sklearn-color-fitted-level-2);\n",
              "}\n",
              "\n",
              "/* Estimator label */\n",
              "\n",
              "#sk-container-id-1 div.sk-label label {\n",
              "  font-family: monospace;\n",
              "  font-weight: bold;\n",
              "  display: inline-block;\n",
              "  line-height: 1.2em;\n",
              "}\n",
              "\n",
              "#sk-container-id-1 div.sk-label-container {\n",
              "  text-align: center;\n",
              "}\n",
              "\n",
              "/* Estimator-specific */\n",
              "#sk-container-id-1 div.sk-estimator {\n",
              "  font-family: monospace;\n",
              "  border: 1px dotted var(--sklearn-color-border-box);\n",
              "  border-radius: 0.25em;\n",
              "  box-sizing: border-box;\n",
              "  margin-bottom: 0.5em;\n",
              "  /* unfitted */\n",
              "  background-color: var(--sklearn-color-unfitted-level-0);\n",
              "}\n",
              "\n",
              "#sk-container-id-1 div.sk-estimator.fitted {\n",
              "  /* fitted */\n",
              "  background-color: var(--sklearn-color-fitted-level-0);\n",
              "}\n",
              "\n",
              "/* on hover */\n",
              "#sk-container-id-1 div.sk-estimator:hover {\n",
              "  /* unfitted */\n",
              "  background-color: var(--sklearn-color-unfitted-level-2);\n",
              "}\n",
              "\n",
              "#sk-container-id-1 div.sk-estimator.fitted:hover {\n",
              "  /* fitted */\n",
              "  background-color: var(--sklearn-color-fitted-level-2);\n",
              "}\n",
              "\n",
              "/* Specification for estimator info (e.g. \"i\" and \"?\") */\n",
              "\n",
              "/* Common style for \"i\" and \"?\" */\n",
              "\n",
              ".sk-estimator-doc-link,\n",
              "a:link.sk-estimator-doc-link,\n",
              "a:visited.sk-estimator-doc-link {\n",
              "  float: right;\n",
              "  font-size: smaller;\n",
              "  line-height: 1em;\n",
              "  font-family: monospace;\n",
              "  background-color: var(--sklearn-color-background);\n",
              "  border-radius: 1em;\n",
              "  height: 1em;\n",
              "  width: 1em;\n",
              "  text-decoration: none !important;\n",
              "  margin-left: 1ex;\n",
              "  /* unfitted */\n",
              "  border: var(--sklearn-color-unfitted-level-1) 1pt solid;\n",
              "  color: var(--sklearn-color-unfitted-level-1);\n",
              "}\n",
              "\n",
              ".sk-estimator-doc-link.fitted,\n",
              "a:link.sk-estimator-doc-link.fitted,\n",
              "a:visited.sk-estimator-doc-link.fitted {\n",
              "  /* fitted */\n",
              "  border: var(--sklearn-color-fitted-level-1) 1pt solid;\n",
              "  color: var(--sklearn-color-fitted-level-1);\n",
              "}\n",
              "\n",
              "/* On hover */\n",
              "div.sk-estimator:hover .sk-estimator-doc-link:hover,\n",
              ".sk-estimator-doc-link:hover,\n",
              "div.sk-label-container:hover .sk-estimator-doc-link:hover,\n",
              ".sk-estimator-doc-link:hover {\n",
              "  /* unfitted */\n",
              "  background-color: var(--sklearn-color-unfitted-level-3);\n",
              "  color: var(--sklearn-color-background);\n",
              "  text-decoration: none;\n",
              "}\n",
              "\n",
              "div.sk-estimator.fitted:hover .sk-estimator-doc-link.fitted:hover,\n",
              ".sk-estimator-doc-link.fitted:hover,\n",
              "div.sk-label-container:hover .sk-estimator-doc-link.fitted:hover,\n",
              ".sk-estimator-doc-link.fitted:hover {\n",
              "  /* fitted */\n",
              "  background-color: var(--sklearn-color-fitted-level-3);\n",
              "  color: var(--sklearn-color-background);\n",
              "  text-decoration: none;\n",
              "}\n",
              "\n",
              "/* Span, style for the box shown on hovering the info icon */\n",
              ".sk-estimator-doc-link span {\n",
              "  display: none;\n",
              "  z-index: 9999;\n",
              "  position: relative;\n",
              "  font-weight: normal;\n",
              "  right: .2ex;\n",
              "  padding: .5ex;\n",
              "  margin: .5ex;\n",
              "  width: min-content;\n",
              "  min-width: 20ex;\n",
              "  max-width: 50ex;\n",
              "  color: var(--sklearn-color-text);\n",
              "  box-shadow: 2pt 2pt 4pt #999;\n",
              "  /* unfitted */\n",
              "  background: var(--sklearn-color-unfitted-level-0);\n",
              "  border: .5pt solid var(--sklearn-color-unfitted-level-3);\n",
              "}\n",
              "\n",
              ".sk-estimator-doc-link.fitted span {\n",
              "  /* fitted */\n",
              "  background: var(--sklearn-color-fitted-level-0);\n",
              "  border: var(--sklearn-color-fitted-level-3);\n",
              "}\n",
              "\n",
              ".sk-estimator-doc-link:hover span {\n",
              "  display: block;\n",
              "}\n",
              "\n",
              "/* \"?\"-specific style due to the `<a>` HTML tag */\n",
              "\n",
              "#sk-container-id-1 a.estimator_doc_link {\n",
              "  float: right;\n",
              "  font-size: 1rem;\n",
              "  line-height: 1em;\n",
              "  font-family: monospace;\n",
              "  background-color: var(--sklearn-color-background);\n",
              "  border-radius: 1rem;\n",
              "  height: 1rem;\n",
              "  width: 1rem;\n",
              "  text-decoration: none;\n",
              "  /* unfitted */\n",
              "  color: var(--sklearn-color-unfitted-level-1);\n",
              "  border: var(--sklearn-color-unfitted-level-1) 1pt solid;\n",
              "}\n",
              "\n",
              "#sk-container-id-1 a.estimator_doc_link.fitted {\n",
              "  /* fitted */\n",
              "  border: var(--sklearn-color-fitted-level-1) 1pt solid;\n",
              "  color: var(--sklearn-color-fitted-level-1);\n",
              "}\n",
              "\n",
              "/* On hover */\n",
              "#sk-container-id-1 a.estimator_doc_link:hover {\n",
              "  /* unfitted */\n",
              "  background-color: var(--sklearn-color-unfitted-level-3);\n",
              "  color: var(--sklearn-color-background);\n",
              "  text-decoration: none;\n",
              "}\n",
              "\n",
              "#sk-container-id-1 a.estimator_doc_link.fitted:hover {\n",
              "  /* fitted */\n",
              "  background-color: var(--sklearn-color-fitted-level-3);\n",
              "}\n",
              "</style><div id=\"sk-container-id-1\" class=\"sk-top-container\"><div class=\"sk-text-repr-fallback\"><pre>MultinomialNB()</pre><b>In a Jupyter environment, please rerun this cell to show the HTML representation or trust the notebook. <br />On GitHub, the HTML representation is unable to render, please try loading this page with nbviewer.org.</b></div><div class=\"sk-container\" hidden><div class=\"sk-item\"><div class=\"sk-estimator fitted sk-toggleable\"><input class=\"sk-toggleable__control sk-hidden--visually\" id=\"sk-estimator-id-1\" type=\"checkbox\" checked><label for=\"sk-estimator-id-1\" class=\"sk-toggleable__label fitted sk-toggleable__label-arrow fitted\">&nbsp;&nbsp;MultinomialNB<a class=\"sk-estimator-doc-link fitted\" rel=\"noreferrer\" target=\"_blank\" href=\"https://scikit-learn.org/1.5/modules/generated/sklearn.naive_bayes.MultinomialNB.html\">?<span>Documentation for MultinomialNB</span></a><span class=\"sk-estimator-doc-link fitted\">i<span>Fitted</span></span></label><div class=\"sk-toggleable__content fitted\"><pre>MultinomialNB()</pre></div> </div></div></div></div>"
            ]
          },
          "metadata": {},
          "execution_count": 14
        }
      ]
    },
    {
      "cell_type": "markdown",
      "source": [
        "Usamos o classificador Multinomial Naive Bayes, que é eficiente para a classificação de texto, como no problema de identificar spam. O Multinomial Naive Bayes é uma versão específica do Naive Bayes que funciona bem com dados de contagem, como o TF-IDF. Neste código, o modelo é treinado com os dados de treino, aprendendo a diferenciar padrões nas palavras usadas em e-mails \"spam\" e \"ham\""
      ],
      "metadata": {
        "id": "bzpnSSGi5oSd"
      }
    },
    {
      "cell_type": "markdown",
      "source": [
        "# **Avaliação do Modelo:**"
      ],
      "metadata": {
        "id": "P3Ki7IGT-6pa"
      }
    },
    {
      "cell_type": "code",
      "source": [
        "from sklearn.metrics import accuracy_score, classification_report, confusion_matrix\n",
        "import seaborn as sns\n",
        "import matplotlib.pyplot as plt\n",
        "\n",
        "# Obter as probabilidades de previsão para a classe \"Spam\"\n",
        "y_probs = model.predict_proba(X_test)[:, 1]  # Probabilidades para a classe \"Spam\" (1)\n",
        "\n",
        "# Ajustar o threshold para a classificação\n",
        "threshold = 0.4  # Ajuste o valor do threshold conforme necessário\n",
        "y_pred_adjusted = (y_probs >= threshold).astype(int)\n",
        "\n",
        "# Calcular as métricas com o threshold ajustado\n",
        "print(\"Accuracy:\", accuracy_score(y_test, y_pred_adjusted))\n",
        "print(\"\\nClassification Report:\")\n",
        "print(classification_report(y_test, y_pred_adjusted))\n",
        "\n",
        "# Matriz de confusão com o threshold ajustado\n",
        "conf_matrix = confusion_matrix(y_test, y_pred_adjusted)\n",
        "\n",
        "# Plot da matriz de confusão\n",
        "sns.heatmap(conf_matrix, annot=True, fmt='d', cmap='Blues', xticklabels=['Ham', 'Spam'], yticklabels=['Ham', 'Spam'])\n",
        "plt.xlabel('Predicted')\n",
        "plt.ylabel('Actual')\n",
        "plt.title('Matriz de Confusão com Threshold Ajustado')\n",
        "plt.show()\n",
        "\n"
      ],
      "metadata": {
        "colab": {
          "base_uri": "https://localhost:8080/",
          "height": 691
        },
        "id": "x7KGOCQR6Esz",
        "outputId": "1557675d-430f-4043-b6fb-14191fcc621c"
      },
      "execution_count": null,
      "outputs": [
        {
          "output_type": "stream",
          "name": "stdout",
          "text": [
            "Accuracy: 0.9710144927536232\n",
            "\n",
            "Classification Report:\n",
            "              precision    recall  f1-score   support\n",
            "\n",
            "           0       0.99      0.96      0.98       742\n",
            "           1       0.92      0.99      0.95       293\n",
            "\n",
            "    accuracy                           0.97      1035\n",
            "   macro avg       0.96      0.98      0.97      1035\n",
            "weighted avg       0.97      0.97      0.97      1035\n",
            "\n"
          ]
        },
        {
          "output_type": "display_data",
          "data": {
            "text/plain": [
              "<Figure size 640x480 with 2 Axes>"
            ],
            "image/png": "[encoded data removed]"
          },
          "metadata": {}
        }
      ]
    },
    {
      "cell_type": "markdown",
      "source": [
        " modelo apresentou um excelente desempenho com o threshold ajustado para 0,4. O threshold é o valor limite usado pelo modelo para determinar se uma previsão pertence à classe \"spam\" ou \"ham\". No caso deste modelo, se a probabilidade de um e-mail ser spam for maior ou igual a 0,4, ele será classificado como spam; caso contrário, será classificado como ham (legítimo).\n",
        "\n",
        "Com este ajuste, o modelo alcançou uma acurácia de 97%, identificando corretamente a maioria dos e-mails, sejam eles legítimos (ham) ou spam. O recall para spam foi de 99%, o que significa que quase todos os e-mails de spam foram detectados, com apenas 4 e-mails de spam classificados incorretamente como legítimos. Houve, no entanto, um pequeno aumento nos falsos positivos (26 e-mails legítimos classificados como spam).\n",
        "\n",
        "Esse trade-off é considerado aceitável, já que o objetivo principal é capturar a maior quantidade possível de spams, minimizando a perda de mensagens legítimas. Em geral, o modelo está bem ajustado, garantindo uma alta taxa de detecção de spam e equilibrando precisão e recall de forma eficaz."
      ],
      "metadata": {
        "id": "0xohYTk5imAT"
      }
    },
    {
      "cell_type": "markdown",
      "source": [
        "Previsão: Depois que o modelo é treinado, fazemos previsões nos dados de teste (os 20% que o modelo nunca viu). Isso nos permite avaliar o quão bem ele funciona em novos dados."
      ],
      "metadata": {
        "id": "6zjMRsvp_C30"
      }
    },
    {
      "cell_type": "code",
      "source": [
        "# Matriz de confusão com o threshold ajustado\n",
        "conf_matrix = confusion_matrix(y_test, y_pred_adjusted)\n"
      ],
      "metadata": {
        "id": "WNyJiHeG_YB6"
      },
      "execution_count": null,
      "outputs": []
    },
    {
      "cell_type": "markdown",
      "source": [
        "Matriz de Confusão: Mostra o número de verdadeiros positivos, verdadeiros negativos, falsos positivos e falsos negativos. Esta matriz ajuda a visualizar onde o modelo está errando (por exemplo, quantos spams ele não detectou corretamente)."
      ],
      "metadata": {
        "id": "iR0EfAZO_iTv"
      }
    },
    {
      "cell_type": "markdown",
      "source": [
        "A Curva ROC (Receiver Operating Characteristic) é uma ferramenta gráfica para avaliar o desempenho de um classificador binário, como o modelo de Naive Bayes para detectar e-mails spam. A curva mostra a relação entre o True Positive Rate (taxa de verdadeiros positivos ou sensibilidade) e o False Positive Rate (taxa de falsos positivos) para diferentes valores de threshold.\n",
        "\n",
        "A AUC (Área sob a Curva) representa a área total sob a Curva ROC e fornece uma única métrica para avaliar o desempenho do modelo. Um valor de AUC próximo de 1 indica que o modelo tem uma excelente capacidade de separação entre as classes (neste caso, \"Spam\" e \"Ham\"). Quanto maior o AUC, melhor o modelo consegue distinguir entre e-mails legítimos e spam.\n",
        "\n",
        "Essas métricas são especialmente úteis porque permitem avaliar o desempenho do modelo para diferentes thresholds, o que ajuda a encontrar um equilíbrio entre a detecção de spams e a minimização de falsos positivos."
      ],
      "metadata": {
        "id": "28-ugZaelQXN"
      }
    },
    {
      "cell_type": "code",
      "source": [
        "from sklearn.metrics import roc_curve, roc_auc_score\n",
        "\n",
        "# Probabilidades de predição (necessário para a curva ROC)\n",
        "y_probs = model.predict_proba(X_test)[:, 1]\n",
        "\n",
        "# Calcular a curva ROC\n",
        "fpr, tpr, thresholds = roc_curve(y_test, y_probs)\n",
        "\n",
        "# Plotar a curva ROC\n",
        "plt.plot(fpr, tpr, label=f\"AUC = {roc_auc_score(y_test, y_probs):.2f}\")\n",
        "plt.plot([0, 1], [0, 1], 'k--')  # Linha diagonal\n",
        "plt.xlabel('False Positive Rate')\n",
        "plt.ylabel('True Positive Rate')\n",
        "plt.title('Curva ROC')\n",
        "plt.legend(loc='best')\n",
        "plt.show()\n",
        "\n",
        "# AUC Score\n",
        "auc_score = roc_auc_score(y_test, y_probs)\n",
        "print(f\"AUC: {auc_score:.2f}\")\n"
      ],
      "metadata": {
        "colab": {
          "base_uri": "https://localhost:8080/",
          "height": 490
        },
        "id": "k3ldCqX9ODOm",
        "outputId": "afbc961e-9cd7-4016-d2f7-637deb1c651d"
      },
      "execution_count": null,
      "outputs": [
        {
          "output_type": "display_data",
          "data": {
            "text/plain": [
              "<Figure size 640x480 with 1 Axes>"
            ],
            "image/png": "[encoded data removed]"
          },
          "metadata": {}
        },
        {
          "output_type": "stream",
          "name": "stdout",
          "text": [
            "AUC: 1.00\n"
          ]
        }
      ]
    },
    {
      "cell_type": "markdown",
      "source": [
        "\n",
        "\n",
        "A Curva ROC apresentada mostra um desempenho excelente do modelo, com um valor de AUC de 1.00. Isso indica que o modelo é capaz de distinguir perfeitamente entre as classes \"Spam\" e \"Ham\" em todas as taxas de threshold, atingindo uma taxa de verdadeiros positivos (True Positive Rate) próxima de 1 enquanto mantém a taxa de falsos positivos (False Positive Rate) perto de 0.\n",
        "\n",
        "Esse resultado sugere que o modelo tem uma altíssima capacidade de separação entre e-mails legítimos e spams, tornando-o muito confiável para detectar spam com precisão."
      ],
      "metadata": {
        "id": "TbWNKU0yO7Ax"
      }
    },
    {
      "cell_type": "code",
      "source": [
        "from sklearn.model_selection import cross_val_score\n",
        "\n",
        "# Realizar K-fold Cross Validation\n",
        "scores = cross_val_score(model, X, y, cv=5, scoring='accuracy')\n",
        "\n",
        "# Mostrar as médias das métricas\n",
        "print(f\"Cross-validated Accuracy: {scores.mean():.2f} (+/- {scores.std() * 2:.2f})\")\n"
      ],
      "metadata": {
        "colab": {
          "base_uri": "https://localhost:8080/"
        },
        "id": "Pr0T6wHyPUOa",
        "outputId": "fbac1226-dbc5-4f33-aa5d-d47cd90661ca"
      },
      "execution_count": null,
      "outputs": [
        {
          "output_type": "stream",
          "name": "stdout",
          "text": [
            "Cross-validated Accuracy: 0.87 (+/- 0.01)\n"
          ]
        }
      ]
    },
    {
      "cell_type": "markdown",
      "source": [
        "Para melhorar a robustez da avaliação do modelo, podemos adicionar K-fold Cross Validation, que avalia o modelo em várias partições do conjunto de dados."
      ],
      "metadata": {
        "id": "tQUQF_dCPlXR"
      }
    },
    {
      "cell_type": "code",
      "source": [
        "from sklearn.metrics import accuracy_score\n",
        "\n",
        "# Fazer previsões no conjunto de teste\n",
        "y_pred = model.predict(X_test)\n",
        "\n",
        "# Calcular a acurácia\n",
        "accuracy = accuracy_score(y_test, y_pred)\n",
        "\n",
        "# Exibir a taxa de acerto como porcentagem\n",
        "print(f\"Taxa de acerto do modelo: {accuracy * 100:.2f}%\")\n"
      ],
      "metadata": {
        "colab": {
          "base_uri": "https://localhost:8080/"
        },
        "id": "1CzHrLticDBU",
        "outputId": "b68dadd5-3a23-4a71-90d9-13f61f8653ed"
      },
      "execution_count": null,
      "outputs": [
        {
          "output_type": "stream",
          "name": "stdout",
          "text": [
            "Taxa de acerto do modelo: 97.87%\n"
          ]
        }
      ]
    },
    {
      "cell_type": "markdown",
      "source": [
        "a taxa de acerto reflete a proporção de e-mails que o modelo conseguiu classificar corretamente como spam ou ham (não spam) em relação ao total de e-mails que foram analisados."
      ],
      "metadata": {
        "id": "y8GV1uC6cf54"
      }
    },
    {
      "cell_type": "markdown",
      "source": [
        "A acurácia mede quantos e-mails foram corretamente identificados como spam (verdadeiros positivos) e quantos e-mails foram corretamente identificados como não spam (ham) (verdadeiros negativos).\n",
        "\n",
        "Ela também leva em conta as previsões incorretas:\n",
        "\n",
        "Falsos Positivos (FP): E-mails legítimos (não spam) que foram incorretamente\n",
        "classificados como spam.\n",
        "\n",
        "Falsos Negativos (FN): E-mails de spam que foram incorretamente classificados como não spam.\n",
        "\n",
        "A acurácia é afetada pela proporção de previsões corretas versus incorretas. Uma alta acurácia indica que o modelo é eficiente na classificação correta dos e-mails."
      ],
      "metadata": {
        "id": "5WMTHd-Jcqzc"
      }
    },
    {
      "cell_type": "code",
      "source": [],
      "metadata": {
        "id": "QpcwarCic1R4"
      },
      "execution_count": null,
      "outputs": []
    }
  ]
}